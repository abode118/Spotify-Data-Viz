{
 "cells": [
  {
   "cell_type": "markdown",
   "id": "e0cfaab9",
   "metadata": {},
   "source": [
    "# Analyzing Audio Features in Spotify\n",
    "*Anne Bode*"
   ]
  },
  {
   "cell_type": "code",
   "execution_count": 1,
   "id": "535136f5",
   "metadata": {},
   "outputs": [],
   "source": [
    "import pandas as pd\n",
    "import numpy as np\n",
    "import requests"
   ]
  },
  {
   "cell_type": "markdown",
   "id": "784b1279",
   "metadata": {},
   "source": [
    "## Creating Streaming/Library Dataframe"
   ]
  },
  {
   "cell_type": "code",
   "execution_count": 2,
   "id": "5c281e5f",
   "metadata": {},
   "outputs": [
    {
     "data": {
      "text/html": [
       "<div>\n",
       "<style scoped>\n",
       "    .dataframe tbody tr th:only-of-type {\n",
       "        vertical-align: middle;\n",
       "    }\n",
       "\n",
       "    .dataframe tbody tr th {\n",
       "        vertical-align: top;\n",
       "    }\n",
       "\n",
       "    .dataframe thead th {\n",
       "        text-align: right;\n",
       "    }\n",
       "</style>\n",
       "<table border=\"1\" class=\"dataframe\">\n",
       "  <thead>\n",
       "    <tr style=\"text-align: right;\">\n",
       "      <th></th>\n",
       "      <th>endTime</th>\n",
       "      <th>artistName</th>\n",
       "      <th>trackName</th>\n",
       "      <th>msPlayed</th>\n",
       "      <th>UniqueID</th>\n",
       "    </tr>\n",
       "  </thead>\n",
       "  <tbody>\n",
       "    <tr>\n",
       "      <th>0</th>\n",
       "      <td>2020-09-12 00:01</td>\n",
       "      <td>Keri Hilson</td>\n",
       "      <td>Pretty Girl Rock</td>\n",
       "      <td>243920</td>\n",
       "      <td>Keri Hilson:Pretty Girl Rock</td>\n",
       "    </tr>\n",
       "    <tr>\n",
       "      <th>1</th>\n",
       "      <td>2020-09-12 00:05</td>\n",
       "      <td>Silk City</td>\n",
       "      <td>Electricity (with Dua Lipa)</td>\n",
       "      <td>238173</td>\n",
       "      <td>Silk City:Electricity (with Dua Lipa)</td>\n",
       "    </tr>\n",
       "    <tr>\n",
       "      <th>2</th>\n",
       "      <td>2020-09-12 00:09</td>\n",
       "      <td>Chance the Rapper</td>\n",
       "      <td>Same Drugs</td>\n",
       "      <td>257775</td>\n",
       "      <td>Chance the Rapper:Same Drugs</td>\n",
       "    </tr>\n",
       "    <tr>\n",
       "      <th>3</th>\n",
       "      <td>2020-09-12 00:13</td>\n",
       "      <td>Frank Ocean</td>\n",
       "      <td>Thinkin Bout You</td>\n",
       "      <td>200746</td>\n",
       "      <td>Frank Ocean:Thinkin Bout You</td>\n",
       "    </tr>\n",
       "    <tr>\n",
       "      <th>4</th>\n",
       "      <td>2020-09-12 00:16</td>\n",
       "      <td>Zedd</td>\n",
       "      <td>The Middle</td>\n",
       "      <td>184732</td>\n",
       "      <td>Zedd:The Middle</td>\n",
       "    </tr>\n",
       "  </tbody>\n",
       "</table>\n",
       "</div>"
      ],
      "text/plain": [
       "            endTime         artistName                    trackName  msPlayed  \\\n",
       "0  2020-09-12 00:01        Keri Hilson             Pretty Girl Rock    243920   \n",
       "1  2020-09-12 00:05          Silk City  Electricity (with Dua Lipa)    238173   \n",
       "2  2020-09-12 00:09  Chance the Rapper                   Same Drugs    257775   \n",
       "3  2020-09-12 00:13        Frank Ocean             Thinkin Bout You    200746   \n",
       "4  2020-09-12 00:16               Zedd                   The Middle    184732   \n",
       "\n",
       "                                UniqueID  \n",
       "0           Keri Hilson:Pretty Girl Rock  \n",
       "1  Silk City:Electricity (with Dua Lipa)  \n",
       "2           Chance the Rapper:Same Drugs  \n",
       "3           Frank Ocean:Thinkin Bout You  \n",
       "4                        Zedd:The Middle  "
      ]
     },
     "execution_count": 2,
     "metadata": {},
     "output_type": "execute_result"
    }
   ],
   "source": [
    "# read your 1+ StreamingHistory files (depending on how extensive your streaming history is) into pandas dataframes\n",
    "df_stream0 = pd.read_json('StreamingHistory0.json')\n",
    "df_stream1 = pd.read_json('streamingHistory1.json')\n",
    "\n",
    "# merge streaming dataframes\n",
    "df_stream = pd.concat([df_stream0, df_stream1])\n",
    "\n",
    "# create a 'UniqueID' for each song by combining the fields 'artistName' and 'trackName'\n",
    "df_stream['UniqueID'] = df_stream['artistName'] + \":\" + df_stream['trackName']\n",
    "\n",
    "df_stream.head()"
   ]
  },
  {
   "cell_type": "code",
   "execution_count": 3,
   "id": "80aef611",
   "metadata": {},
   "outputs": [
    {
     "data": {
      "text/html": [
       "<div>\n",
       "<style scoped>\n",
       "    .dataframe tbody tr th:only-of-type {\n",
       "        vertical-align: middle;\n",
       "    }\n",
       "\n",
       "    .dataframe tbody tr th {\n",
       "        vertical-align: top;\n",
       "    }\n",
       "\n",
       "    .dataframe thead th {\n",
       "        text-align: right;\n",
       "    }\n",
       "</style>\n",
       "<table border=\"1\" class=\"dataframe\">\n",
       "  <thead>\n",
       "    <tr style=\"text-align: right;\">\n",
       "      <th></th>\n",
       "      <th>artist</th>\n",
       "      <th>album</th>\n",
       "      <th>track</th>\n",
       "      <th>uri</th>\n",
       "      <th>UniqueID</th>\n",
       "      <th>track_uri</th>\n",
       "    </tr>\n",
       "  </thead>\n",
       "  <tbody>\n",
       "    <tr>\n",
       "      <th>0</th>\n",
       "      <td>Arctic Monkeys</td>\n",
       "      <td>Tranquility Base Hotel &amp; Casino</td>\n",
       "      <td>Four Out Of Five</td>\n",
       "      <td>spotify:track:3nhzPKCm2yqGmgEhdAg19u</td>\n",
       "      <td>Arctic Monkeys:Four Out Of Five</td>\n",
       "      <td>3nhzPKCm2yqGmgEhdAg19u</td>\n",
       "    </tr>\n",
       "    <tr>\n",
       "      <th>1</th>\n",
       "      <td>Adele</td>\n",
       "      <td>19</td>\n",
       "      <td>First Love</td>\n",
       "      <td>spotify:track:1DHV4JhMnCkbLuf6Psg93N</td>\n",
       "      <td>Adele:First Love</td>\n",
       "      <td>1DHV4JhMnCkbLuf6Psg93N</td>\n",
       "    </tr>\n",
       "    <tr>\n",
       "      <th>2</th>\n",
       "      <td>Vampire Weekend</td>\n",
       "      <td>Modern Vampires of the City</td>\n",
       "      <td>Ya Hey</td>\n",
       "      <td>spotify:track:4eE6vZ2vOrceLq4xgz3VmG</td>\n",
       "      <td>Vampire Weekend:Ya Hey</td>\n",
       "      <td>4eE6vZ2vOrceLq4xgz3VmG</td>\n",
       "    </tr>\n",
       "    <tr>\n",
       "      <th>3</th>\n",
       "      <td>Haley Heynderickx</td>\n",
       "      <td>I Need to Start a Garden</td>\n",
       "      <td>Show You a Body</td>\n",
       "      <td>spotify:track:1Ax5RAq7lXMTF8A5PTqdl4</td>\n",
       "      <td>Haley Heynderickx:Show You a Body</td>\n",
       "      <td>1Ax5RAq7lXMTF8A5PTqdl4</td>\n",
       "    </tr>\n",
       "    <tr>\n",
       "      <th>4</th>\n",
       "      <td>Paris Jones</td>\n",
       "      <td>You're Invited (To the Assassination of Patric...</td>\n",
       "      <td>Summer</td>\n",
       "      <td>spotify:track:5rfvovWBd35hYqk6rWLIrr</td>\n",
       "      <td>Paris Jones:Summer</td>\n",
       "      <td>5rfvovWBd35hYqk6rWLIrr</td>\n",
       "    </tr>\n",
       "  </tbody>\n",
       "</table>\n",
       "</div>"
      ],
      "text/plain": [
       "              artist                                              album  \\\n",
       "0     Arctic Monkeys                    Tranquility Base Hotel & Casino   \n",
       "1              Adele                                                 19   \n",
       "2    Vampire Weekend                        Modern Vampires of the City   \n",
       "3  Haley Heynderickx                           I Need to Start a Garden   \n",
       "4        Paris Jones  You're Invited (To the Assassination of Patric...   \n",
       "\n",
       "              track                                   uri  \\\n",
       "0  Four Out Of Five  spotify:track:3nhzPKCm2yqGmgEhdAg19u   \n",
       "1        First Love  spotify:track:1DHV4JhMnCkbLuf6Psg93N   \n",
       "2            Ya Hey  spotify:track:4eE6vZ2vOrceLq4xgz3VmG   \n",
       "3   Show You a Body  spotify:track:1Ax5RAq7lXMTF8A5PTqdl4   \n",
       "4            Summer  spotify:track:5rfvovWBd35hYqk6rWLIrr   \n",
       "\n",
       "                            UniqueID               track_uri  \n",
       "0    Arctic Monkeys:Four Out Of Five  3nhzPKCm2yqGmgEhdAg19u  \n",
       "1                   Adele:First Love  1DHV4JhMnCkbLuf6Psg93N  \n",
       "2             Vampire Weekend:Ya Hey  4eE6vZ2vOrceLq4xgz3VmG  \n",
       "3  Haley Heynderickx:Show You a Body  1Ax5RAq7lXMTF8A5PTqdl4  \n",
       "4                 Paris Jones:Summer  5rfvovWBd35hYqk6rWLIrr  "
      ]
     },
     "execution_count": 3,
     "metadata": {},
     "output_type": "execute_result"
    }
   ],
   "source": [
    "# read your edited Library json file into a pandas dataframe\n",
    "df_library = pd.read_json('YourLibrary1.json')\n",
    "\n",
    "# add UniqueID column (same as above)\n",
    "df_library['UniqueID'] = df_library['artist'] + \":\" + df_library['track']\n",
    "\n",
    "# add column with track URI stripped of 'spotify:track:'\n",
    "new = df_library[\"uri\"].str.split(\":\", expand = True)\n",
    "df_library['track_uri'] = new[2]\n",
    "\n",
    "df_library.head()"
   ]
  },
  {
   "cell_type": "code",
   "execution_count": 14,
   "id": "0e1e3e46",
   "metadata": {},
   "outputs": [
    {
     "data": {
      "text/html": [
       "<div>\n",
       "<style scoped>\n",
       "    .dataframe tbody tr th:only-of-type {\n",
       "        vertical-align: middle;\n",
       "    }\n",
       "\n",
       "    .dataframe tbody tr th {\n",
       "        vertical-align: top;\n",
       "    }\n",
       "\n",
       "    .dataframe thead th {\n",
       "        text-align: right;\n",
       "    }\n",
       "</style>\n",
       "<table border=\"1\" class=\"dataframe\">\n",
       "  <thead>\n",
       "    <tr style=\"text-align: right;\">\n",
       "      <th></th>\n",
       "      <th>endTime</th>\n",
       "      <th>artistName</th>\n",
       "      <th>trackName</th>\n",
       "      <th>msPlayed</th>\n",
       "      <th>UniqueID</th>\n",
       "      <th>album</th>\n",
       "      <th>track_uri</th>\n",
       "    </tr>\n",
       "  </thead>\n",
       "  <tbody>\n",
       "    <tr>\n",
       "      <th>2</th>\n",
       "      <td>2020-09-12 00:09</td>\n",
       "      <td>Chance the Rapper</td>\n",
       "      <td>Same Drugs</td>\n",
       "      <td>257775</td>\n",
       "      <td>Chance the Rapper:Same Drugs</td>\n",
       "      <td>Coloring Book</td>\n",
       "      <td>6m9qPYXmhge2QhBLfFKnVF</td>\n",
       "    </tr>\n",
       "    <tr>\n",
       "      <th>3</th>\n",
       "      <td>2020-09-12 00:13</td>\n",
       "      <td>Frank Ocean</td>\n",
       "      <td>Thinkin Bout You</td>\n",
       "      <td>200746</td>\n",
       "      <td>Frank Ocean:Thinkin Bout You</td>\n",
       "      <td>channel ORANGE</td>\n",
       "      <td>7DfFc7a6Rwfi3YQMRbDMau</td>\n",
       "    </tr>\n",
       "    <tr>\n",
       "      <th>5</th>\n",
       "      <td>2020-09-12 00:19</td>\n",
       "      <td>Jorja Smith</td>\n",
       "      <td>Be Honest (feat. Burna Boy)</td>\n",
       "      <td>207030</td>\n",
       "      <td>Jorja Smith:Be Honest (feat. Burna Boy)</td>\n",
       "      <td>Be Honest (feat. Burna Boy)</td>\n",
       "      <td>5pAbCxt9e3f81lOmjIXwzd</td>\n",
       "    </tr>\n",
       "    <tr>\n",
       "      <th>6</th>\n",
       "      <td>2020-09-12 00:23</td>\n",
       "      <td>The 1975</td>\n",
       "      <td>Menswear</td>\n",
       "      <td>206737</td>\n",
       "      <td>The 1975:Menswear</td>\n",
       "      <td>The 1975</td>\n",
       "      <td>1v07ywlVYd02pOCnXRBDNA</td>\n",
       "    </tr>\n",
       "    <tr>\n",
       "      <th>9</th>\n",
       "      <td>2020-09-12 00:39</td>\n",
       "      <td>Fergie</td>\n",
       "      <td>Big Girls Don't Cry (Personal)</td>\n",
       "      <td>268120</td>\n",
       "      <td>Fergie:Big Girls Don't Cry (Personal)</td>\n",
       "      <td>The Dutchess</td>\n",
       "      <td>3Q4WeJmzxuDpzMu9QjQqbM</td>\n",
       "    </tr>\n",
       "  </tbody>\n",
       "</table>\n",
       "</div>"
      ],
      "text/plain": [
       "            endTime         artistName                       trackName  \\\n",
       "2  2020-09-12 00:09  Chance the Rapper                      Same Drugs   \n",
       "3  2020-09-12 00:13        Frank Ocean                Thinkin Bout You   \n",
       "5  2020-09-12 00:19        Jorja Smith     Be Honest (feat. Burna Boy)   \n",
       "6  2020-09-12 00:23           The 1975                        Menswear   \n",
       "9  2020-09-12 00:39             Fergie  Big Girls Don't Cry (Personal)   \n",
       "\n",
       "   msPlayed                                 UniqueID  \\\n",
       "2    257775             Chance the Rapper:Same Drugs   \n",
       "3    200746             Frank Ocean:Thinkin Bout You   \n",
       "5    207030  Jorja Smith:Be Honest (feat. Burna Boy)   \n",
       "6    206737                        The 1975:Menswear   \n",
       "9    268120    Fergie:Big Girls Don't Cry (Personal)   \n",
       "\n",
       "                         album               track_uri  \n",
       "2                Coloring Book  6m9qPYXmhge2QhBLfFKnVF  \n",
       "3               channel ORANGE  7DfFc7a6Rwfi3YQMRbDMau  \n",
       "5  Be Honest (feat. Burna Boy)  5pAbCxt9e3f81lOmjIXwzd  \n",
       "6                     The 1975  1v07ywlVYd02pOCnXRBDNA  \n",
       "9                 The Dutchess  3Q4WeJmzxuDpzMu9QjQqbM  "
      ]
     },
     "execution_count": 14,
     "metadata": {},
     "output_type": "execute_result"
    }
   ],
   "source": [
    "# create final dict as a copy df_stream\n",
    "df_tableau = df_stream.copy()\n",
    "\n",
    "# left join with df_library on UniqueID to bring in album and track_uri\n",
    "df_tableau = pd.merge(df_tableau, df_library[['album','UniqueID','track_uri']],how='left',on=['UniqueID'])\n",
    "\n",
    "# drop all songs that aren't in our Library, aka library data values like track uri not filled in\n",
    "df_tableau = df_tableau[df_tableau['track_uri'].notna()]\n",
    "df_tableau.head()"
   ]
  },
  {
   "cell_type": "markdown",
   "id": "168dfffa",
   "metadata": {},
   "source": [
    "## Creating Genre Dataframe"
   ]
  },
  {
   "cell_type": "code",
   "execution_count": 29,
   "id": "8025d8e4",
   "metadata": {},
   "outputs": [],
   "source": [
    "# save your IDs from new project in Spotify Developer Dashboard\n",
    "CLIENT_ID = '565c1e94bd89447eb3c564ceb55d3ab9'\n",
    "CLIENT_SECRET = 'd41cc711389645f3b0fdf61695e70dca'"
   ]
  },
  {
   "cell_type": "code",
   "execution_count": 30,
   "id": "83b8e278",
   "metadata": {},
   "outputs": [],
   "source": [
    "# generate access token\n",
    "\n",
    "# authentication URL\n",
    "AUTH_URL = 'https://accounts.spotify.com/api/token'\n",
    "\n",
    "# POST\n",
    "auth_response = requests.post(AUTH_URL, {\n",
    "    'grant_type': 'client_credentials',\n",
    "    'client_id': CLIENT_ID,\n",
    "    'client_secret': CLIENT_SECRET,\n",
    "})\n",
    "\n",
    "# convert the response to JSON\n",
    "auth_response_data = auth_response.json()\n",
    "\n",
    "# save the access token\n",
    "access_token = auth_response_data['access_token']"
   ]
  },
  {
   "cell_type": "code",
   "execution_count": 31,
   "id": "3fa4edb6",
   "metadata": {},
   "outputs": [],
   "source": [
    "# used for authenticating all API calls\n",
    "headers = {'Authorization': 'Bearer {token}'.format(token=access_token)}"
   ]
  },
  {
   "cell_type": "code",
   "execution_count": 32,
   "id": "4f58b231",
   "metadata": {},
   "outputs": [],
   "source": [
    "# base URL of all Spotify API endpoints\n",
    "BASE_URL = 'https://api.spotify.com/v1/'"
   ]
  },
  {
   "cell_type": "code",
   "execution_count": 23,
   "id": "e67a8160",
   "metadata": {},
   "outputs": [],
   "source": [
    "# create blank dictionary to store audio features\n",
    "feature_dict = {}\n",
    "\n",
    "# convert track_uri column to an iterable list\n",
    "track_uris = df_library['track_uri'].to_list()\n",
    "\n",
    "# loop through track URIs and pull audio features using the API,\n",
    "# store all these in a dictionary\n",
    "for t_uri in track_uris:\n",
    "    \n",
    "    feature_dict[t_uri] = {'popularity': 0,\n",
    "                           'danceability': 0,\n",
    "                           'energy': 0,\n",
    "                           'speechiness': 0,\n",
    "                           'instrumentalness': 0,\n",
    "                           'tempo': 0}\n",
    "    \n",
    "    r = requests.get(BASE_URL + 'tracks/' + t_uri, headers=headers)\n",
    "    r = r.json()\n",
    "    feature_dict[t_uri]['popularity'] = r['popularity']\n",
    "    \n",
    "    s = requests.get(BASE_URL + 'audio-features/' + t_uri, headers=headers)\n",
    "    s = s.json()\n",
    "    feature_dict[t_uri]['danceability'] = s['danceability']\n",
    "    feature_dict[t_uri]['energy'] = s['energy']\n",
    "    feature_dict[t_uri]['speechiness'] = s['speechiness']\n",
    "    feature_dict[t_uri]['instrumentalness'] = s['instrumentalness']\n",
    "    feature_dict[t_uri]['tempo'] = s['tempo']"
   ]
  },
  {
   "cell_type": "code",
   "execution_count": 25,
   "id": "c589a84d",
   "metadata": {},
   "outputs": [
    {
     "data": {
      "text/html": [
       "<div>\n",
       "<style scoped>\n",
       "    .dataframe tbody tr th:only-of-type {\n",
       "        vertical-align: middle;\n",
       "    }\n",
       "\n",
       "    .dataframe tbody tr th {\n",
       "        vertical-align: top;\n",
       "    }\n",
       "\n",
       "    .dataframe thead th {\n",
       "        text-align: right;\n",
       "    }\n",
       "</style>\n",
       "<table border=\"1\" class=\"dataframe\">\n",
       "  <thead>\n",
       "    <tr style=\"text-align: right;\">\n",
       "      <th></th>\n",
       "      <th>track_uri</th>\n",
       "      <th>popularity</th>\n",
       "      <th>danceability</th>\n",
       "      <th>energy</th>\n",
       "      <th>speechiness</th>\n",
       "      <th>instrumentalness</th>\n",
       "      <th>tempo</th>\n",
       "    </tr>\n",
       "  </thead>\n",
       "  <tbody>\n",
       "    <tr>\n",
       "      <th>0</th>\n",
       "      <td>3nhzPKCm2yqGmgEhdAg19u</td>\n",
       "      <td>57</td>\n",
       "      <td>0.601</td>\n",
       "      <td>0.863</td>\n",
       "      <td>0.0685</td>\n",
       "      <td>0.000000</td>\n",
       "      <td>130.189</td>\n",
       "    </tr>\n",
       "    <tr>\n",
       "      <th>1</th>\n",
       "      <td>1DHV4JhMnCkbLuf6Psg93N</td>\n",
       "      <td>0</td>\n",
       "      <td>0.562</td>\n",
       "      <td>0.110</td>\n",
       "      <td>0.0363</td>\n",
       "      <td>0.005140</td>\n",
       "      <td>162.548</td>\n",
       "    </tr>\n",
       "    <tr>\n",
       "      <th>2</th>\n",
       "      <td>4eE6vZ2vOrceLq4xgz3VmG</td>\n",
       "      <td>0</td>\n",
       "      <td>0.584</td>\n",
       "      <td>0.650</td>\n",
       "      <td>0.0427</td>\n",
       "      <td>0.000283</td>\n",
       "      <td>92.010</td>\n",
       "    </tr>\n",
       "    <tr>\n",
       "      <th>3</th>\n",
       "      <td>1Ax5RAq7lXMTF8A5PTqdl4</td>\n",
       "      <td>43</td>\n",
       "      <td>0.459</td>\n",
       "      <td>0.179</td>\n",
       "      <td>0.0391</td>\n",
       "      <td>0.013000</td>\n",
       "      <td>127.019</td>\n",
       "    </tr>\n",
       "    <tr>\n",
       "      <th>4</th>\n",
       "      <td>5rfvovWBd35hYqk6rWLIrr</td>\n",
       "      <td>30</td>\n",
       "      <td>0.650</td>\n",
       "      <td>0.674</td>\n",
       "      <td>0.4190</td>\n",
       "      <td>0.000002</td>\n",
       "      <td>89.996</td>\n",
       "    </tr>\n",
       "  </tbody>\n",
       "</table>\n",
       "</div>"
      ],
      "text/plain": [
       "                track_uri  popularity  danceability  energy  speechiness  \\\n",
       "0  3nhzPKCm2yqGmgEhdAg19u          57         0.601   0.863       0.0685   \n",
       "1  1DHV4JhMnCkbLuf6Psg93N           0         0.562   0.110       0.0363   \n",
       "2  4eE6vZ2vOrceLq4xgz3VmG           0         0.584   0.650       0.0427   \n",
       "3  1Ax5RAq7lXMTF8A5PTqdl4          43         0.459   0.179       0.0391   \n",
       "4  5rfvovWBd35hYqk6rWLIrr          30         0.650   0.674       0.4190   \n",
       "\n",
       "   instrumentalness    tempo  \n",
       "0          0.000000  130.189  \n",
       "1          0.005140  162.548  \n",
       "2          0.000283   92.010  \n",
       "3          0.013000  127.019  \n",
       "4          0.000002   89.996  "
      ]
     },
     "execution_count": 25,
     "metadata": {},
     "output_type": "execute_result"
    }
   ],
   "source": [
    "# convert dictionary into dataframe with track_uri as the first column\n",
    "df_features = pd.DataFrame.from_dict(feature_dict, orient='index')\n",
    "df_features.insert(0, 'track_uri', df_features.index)\n",
    "df_features.reset_index(inplace=True, drop=True)\n",
    "\n",
    "df_features.head()"
   ]
  },
  {
   "cell_type": "code",
   "execution_count": 27,
   "id": "8117c9e1",
   "metadata": {},
   "outputs": [
    {
     "name": "stdout",
     "output_type": "stream",
     "text": [
      "done\n"
     ]
    }
   ],
   "source": [
    "# save df_tableau and df_genre_expanded as csv files that we can load into Tableau\n",
    "df_tableau.to_csv('MySpotifyLibraryStreams.csv')\n",
    "df_features.to_csv('AudioFeaturesTable.csv')\n",
    "\n",
    "print('done')"
   ]
  },
  {
   "cell_type": "code",
   "execution_count": 35,
   "id": "5cd80690",
   "metadata": {},
   "outputs": [
    {
     "data": {
      "application/javascript": [
       "if (window.IPython && IPython.notebook.kernel) IPython.notebook.kernel.execute('jovian.utils.jupyter.get_notebook_name_saved = lambda: \"' + IPython.notebook.notebook_name + '\"')"
      ],
      "text/plain": [
       "<IPython.core.display.Javascript object>"
      ]
     },
     "metadata": {},
     "output_type": "display_data"
    },
    {
     "data": {
      "application/javascript": [
       "window.require && require([\"base/js/namespace\"],function(Jupyter){Jupyter.notebook.save_checkpoint()})"
      ],
      "text/plain": [
       "<IPython.core.display.Javascript object>"
      ]
     },
     "metadata": {},
     "output_type": "display_data"
    },
    {
     "name": "stdout",
     "output_type": "stream",
     "text": [
      "[jovian] Committed successfully! https://jovian.ai/abode118/spotify-audio-features\r\n"
     ]
    },
    {
     "data": {
      "text/plain": [
       "'https://jovian.ai/abode118/spotify-audio-features'"
      ]
     },
     "execution_count": 35,
     "metadata": {},
     "output_type": "execute_result"
    }
   ],
   "source": [
    "import jovian\n",
    "#jovian.commit()"
   ]
  },
  {
   "cell_type": "code",
   "execution_count": null,
   "id": "fbe456c4",
   "metadata": {},
   "outputs": [],
   "source": []
  }
 ],
 "metadata": {
  "kernelspec": {
   "display_name": "Python [conda env:python38]",
   "language": "python",
   "name": "conda-env-python38-py"
  },
  "language_info": {
   "codemirror_mode": {
    "name": "ipython",
    "version": 3
   },
   "file_extension": ".py",
   "mimetype": "text/x-python",
   "name": "python",
   "nbconvert_exporter": "python",
   "pygments_lexer": "ipython3",
   "version": "3.8.10"
  }
 },
 "nbformat": 4,
 "nbformat_minor": 5
}
